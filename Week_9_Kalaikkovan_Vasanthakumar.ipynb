{
 "cells": [
  {
   "cell_type": "markdown",
   "id": "ea16987d",
   "metadata": {},
   "source": [
    "## 9.3 Assignment"
   ]
  },
  {
   "cell_type": "code",
   "execution_count": 1,
   "id": "22520846",
   "metadata": {},
   "outputs": [],
   "source": [
    "#Author: Vasanthakumar Kalaikkovan\n",
    "#Date: 10/25/2021\n",
    "#Assignment: Calculate Probability of a Model Ensemble"
   ]
  },
  {
   "cell_type": "code",
   "execution_count": 3,
   "id": "cc2f3ee4",
   "metadata": {},
   "outputs": [],
   "source": [
    "# importing Libraries\n",
    "import numpy as np\n",
    "import scipy\n",
    "import matplotlib.pyplot as plt\n",
    "from scipy.stats import binom"
   ]
  },
  {
   "cell_type": "code",
   "execution_count": 4,
   "id": "fab6d478",
   "metadata": {},
   "outputs": [],
   "source": [
    "# pmf function\n",
    "def pmf(k,n,p):\n",
    "    return binom.pmf(k,n,p)"
   ]
  },
  {
   "cell_type": "code",
   "execution_count": 5,
   "id": "109ec8bb",
   "metadata": {},
   "outputs": [],
   "source": [
    "#cdf function\n",
    "def cdf(k,n,p):\n",
    "    return 1-binom.cdf(k,n,p)"
   ]
  },
  {
   "cell_type": "code",
   "execution_count": 22,
   "id": "ea9bfc8a",
   "metadata": {},
   "outputs": [],
   "source": [
    "# Probability Distributions\n",
    "def probabilityDistribution(noModules,errorRate):\n",
    "    rValue=list(range(noModules+1))\n",
    "    dist=[binom.pmf(r,noModules,errorRate) for r in rValue]\n",
    "    plt.bar(rValue,dist)\n",
    "    plt.show()"
   ]
  },
  {
   "cell_type": "markdown",
   "id": "4f0863ca",
   "metadata": {},
   "source": [
    "#### 1. The ensemble contains 11 independent models, all of which have an error rate of 0.2."
   ]
  },
  {
   "cell_type": "code",
   "execution_count": 6,
   "id": "0c5dcd12",
   "metadata": {},
   "outputs": [],
   "source": [
    "NoOfModules=11\n",
    "ErrorRate=0.2\n",
    "NoOfFailure=np.ceil(NoOfModules/2)"
   ]
  },
  {
   "cell_type": "code",
   "execution_count": 7,
   "id": "292f00db",
   "metadata": {},
   "outputs": [
    {
     "data": {
      "text/plain": [
       "0.038755368959999995"
      ]
     },
     "execution_count": 7,
     "metadata": {},
     "output_type": "execute_result"
    }
   ],
   "source": [
    "pmf(k=NoOfFailure-1,p=ErrorRate,n=NoOfModules)"
   ]
  },
  {
   "cell_type": "code",
   "execution_count": 8,
   "id": "4864936e",
   "metadata": {},
   "outputs": [
    {
     "data": {
      "text/plain": [
       "0.011654205439999954"
      ]
     },
     "execution_count": 8,
     "metadata": {},
     "output_type": "execute_result"
    }
   ],
   "source": [
    "cdf(k=NoOfFailure-1,p=ErrorRate,n=NoOfModules)"
   ]
  },
  {
   "cell_type": "code",
   "execution_count": 23,
   "id": "0a3674cb",
   "metadata": {},
   "outputs": [
    {
     "data": {
      "image/png": "[encoded data removed]",
      "text/plain": [
       "<Figure size 432x288 with 1 Axes>"
      ]
     },
     "metadata": {
      "needs_background": "light"
     },
     "output_type": "display_data"
    }
   ],
   "source": [
    "#probability Distribution\n",
    "probabilityDistribution(NoOfModules,ErrorRate)"
   ]
  },
  {
   "cell_type": "markdown",
   "id": "757ead86",
   "metadata": {},
   "source": [
    "#### 2. The ensemble contains 11 independent models, all of which have an error rate of 0.49."
   ]
  },
  {
   "cell_type": "code",
   "execution_count": 24,
   "id": "01cf077a",
   "metadata": {},
   "outputs": [],
   "source": [
    "NoOfModules=11\n",
    "ErrorRate=0.49\n",
    "NoOfFailure=np.ceil(NoOfModules/2)"
   ]
  },
  {
   "cell_type": "code",
   "execution_count": 25,
   "id": "aee31126",
   "metadata": {},
   "outputs": [
    {
     "data": {
      "text/plain": [
       "0.2296378289465168"
      ]
     },
     "execution_count": 25,
     "metadata": {},
     "output_type": "execute_result"
    }
   ],
   "source": [
    "pmf(k=NoOfFailure-1,p=ErrorRate,n=NoOfModules)"
   ]
  },
  {
   "cell_type": "code",
   "execution_count": 26,
   "id": "931664b8",
   "metadata": {},
   "outputs": [
    {
     "data": {
      "text/plain": [
       "0.4729477257149748"
      ]
     },
     "execution_count": 26,
     "metadata": {},
     "output_type": "execute_result"
    }
   ],
   "source": [
    "cdf(k=NoOfFailure-1,p=ErrorRate,n=NoOfModules)"
   ]
  },
  {
   "cell_type": "code",
   "execution_count": 27,
   "id": "7bdeb2f6",
   "metadata": {},
   "outputs": [
    {
     "data": {
      "image/png": "[encoded data removed]",
      "text/plain": [
       "<Figure size 432x288 with 1 Axes>"
      ]
     },
     "metadata": {
      "needs_background": "light"
     },
     "output_type": "display_data"
    }
   ],
   "source": [
    "#probability Distribution\n",
    "probabilityDistribution(NoOfModules,ErrorRate)"
   ]
  },
  {
   "cell_type": "markdown",
   "id": "ddf33ff9",
   "metadata": {},
   "source": [
    "#### 3. The ensemble contains 21 independent models, all of which have an error rate of 0.49."
   ]
  },
  {
   "cell_type": "code",
   "execution_count": 28,
   "id": "be93c814",
   "metadata": {},
   "outputs": [],
   "source": [
    "NoOfModules=21\n",
    "ErrorRate=0.49\n",
    "NoOfFailure=np.ceil(NoOfModules/2)"
   ]
  },
  {
   "cell_type": "code",
   "execution_count": 29,
   "id": "efa0646f",
   "metadata": {},
   "outputs": [
    {
     "data": {
      "text/plain": [
       "0.17086688342342418"
      ]
     },
     "execution_count": 29,
     "metadata": {},
     "output_type": "execute_result"
    }
   ],
   "source": [
    "pmf(k=NoOfFailure-1,p=ErrorRate,n=NoOfModules)"
   ]
  },
  {
   "cell_type": "code",
   "execution_count": 30,
   "id": "70fdd2e2",
   "metadata": {},
   "outputs": [
    {
     "data": {
      "text/plain": [
       "0.4630479010127354"
      ]
     },
     "execution_count": 30,
     "metadata": {},
     "output_type": "execute_result"
    }
   ],
   "source": [
    "cdf(k=NoOfFailure-1,p=ErrorRate,n=NoOfModules)"
   ]
  },
  {
   "cell_type": "code",
   "execution_count": 31,
   "id": "abe69a08",
   "metadata": {},
   "outputs": [
    {
     "data": {
      "image/png": "[encoded data removed]",
      "text/plain": [
       "<Figure size 432x288 with 1 Axes>"
      ]
     },
     "metadata": {
      "needs_background": "light"
     },
     "output_type": "display_data"
    }
   ],
   "source": [
    "#probability Distribution\n",
    "probabilityDistribution(NoOfModules,ErrorRate)"
   ]
  },
  {
   "cell_type": "code",
   "execution_count": null,
   "id": "72b0abf0",
   "metadata": {},
   "outputs": [],
   "source": []
  }
 ],
 "metadata": {
  "kernelspec": {
   "display_name": "Python 3",
   "language": "python",
   "name": "python3"
  },
  "language_info": {
   "codemirror_mode": {
    "name": "ipython",
    "version": 3
   },
   "file_extension": ".py",
   "mimetype": "text/x-python",
   "name": "python",
   "nbconvert_exporter": "python",
   "pygments_lexer": "ipython3",
   "version": "3.6.13"
  }
 },
 "nbformat": 4,
 "nbformat_minor": 5
}
